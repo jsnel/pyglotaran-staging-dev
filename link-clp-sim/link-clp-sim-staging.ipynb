{
 "cells": [
  {
   "cell_type": "markdown",
   "metadata": {},
   "source": [
    "# Two dataset simulation case study"
   ]
  },
  {
   "cell_type": "code",
   "execution_count": 1,
   "metadata": {},
   "outputs": [],
   "source": [
    "from glotaran.io import load_scheme, load_parameters\n",
    "from glotaran.simulation import simulate\n",
    "import numpy as np\n",
    "from pyglotaran_extras import plot_data_overview\n",
    "\n",
    "time_axis = np.arange(-1, 20, 0.01)\n",
    "spectral_axis = np.arange(600, 700, 1.4)\n",
    "simulation_coordinates = {\"time\": time_axis, \"spectral\": spectral_axis}"
   ]
  },
  {
   "cell_type": "markdown",
   "metadata": {},
   "source": [
    "## Simulate data"
   ]
  },
  {
   "cell_type": "code",
   "execution_count": null,
   "metadata": {},
   "outputs": [],
   "source": [
    "sim_scheme = load_scheme(\"models/sim-scheme.yaml\")\n",
    "\n",
    "ds1 = simulate(\n",
    "    model=sim_scheme.experiments[\"sim\"].datasets[\"dataset_1\"],\n",
    "    library=sim_scheme.library,\n",
    "    parameters=load_parameters(\"models/sim-params.yaml\"),\n",
    "    coordinates=simulation_coordinates,\n",
    "    noise=True,\n",
    "    noise_seed=42,\n",
    "    noise_std_dev=2\n",
    "\n",
    ")\n",
    "plot_data_overview(ds1);"
   ]
  },
  {
   "cell_type": "code",
   "execution_count": null,
   "metadata": {},
   "outputs": [],
   "source": [
    "ds2 = simulate(\n",
    "    model=sim_scheme.experiments[\"sim\"].datasets[\"dataset_2\"],\n",
    "    library=sim_scheme.library,\n",
    "    parameters=load_parameters(\"models/sim-params.yaml\"),\n",
    "    coordinates=simulation_coordinates,\n",
    "    noise=True,\n",
    "    noise_seed=42,\n",
    "    noise_std_dev=2\n",
    ")\n",
    "plot_data_overview(ds2);"
   ]
  },
  {
   "cell_type": "code",
   "execution_count": null,
   "metadata": {},
   "outputs": [],
   "source": [
    "ds2.data[0,:]"
   ]
  },
  {
   "cell_type": "markdown",
   "metadata": {},
   "source": [
    "## Fitting with link_clp true (default)"
   ]
  },
  {
   "cell_type": "code",
   "execution_count": 5,
   "metadata": {},
   "outputs": [],
   "source": [
    "fit_scheme_clp_false = load_scheme(\"models/fit-scheme_link_clp_true.yaml\")\n",
    "fit_scheme_clp_false.load_data({\"dataset_1\": ds1, \"dataset_2\": ds2})"
   ]
  },
  {
   "cell_type": "code",
   "execution_count": null,
   "metadata": {},
   "outputs": [],
   "source": [
    "result = fit_scheme_clp_false.optimize(load_parameters(\"models/fit-params.yaml\"))"
   ]
  },
  {
   "cell_type": "code",
   "execution_count": null,
   "metadata": {},
   "outputs": [],
   "source": [
    "from pyglotaran_extras import plot_overview\n",
    "from pyglotaran_extras.compat.convert_result_dataset import convert_dataset\n",
    "\n",
    "plot_overview(convert_dataset(result.data[\"dataset_1\"]), show_data=None)\n",
    "plot_overview(convert_dataset(result.data[\"dataset_2\"]), show_data=None);"
   ]
  },
  {
   "cell_type": "markdown",
   "metadata": {},
   "source": [
    "## Fit with 'link_clp' false (datasets in different experments)"
   ]
  },
  {
   "cell_type": "code",
   "execution_count": null,
   "metadata": {},
   "outputs": [],
   "source": [
    "fit_scheme_clp_false = load_scheme(\"models/fit-scheme_link_clp_false.yaml\")\n",
    "fit_scheme_clp_false.load_data({\"dataset_1\": ds1, \"dataset_2\": ds2})\n",
    "result_link_clp_false = fit_scheme_clp_false.optimize(load_parameters(\"models/fit-params.yaml\"))"
   ]
  },
  {
   "cell_type": "code",
   "execution_count": null,
   "metadata": {},
   "outputs": [],
   "source": [
    "from pyglotaran_extras import plot_overview\n",
    "\n",
    "plot_overview(convert_dataset(result_link_clp_false.data[\"dataset_1\"]), show_data=None)\n",
    "plot_overview(convert_dataset(result_link_clp_false.data[\"dataset_2\"]), show_data=None);"
   ]
  },
  {
   "cell_type": "code",
   "execution_count": null,
   "metadata": {},
   "outputs": [],
   "source": []
  },
  {
   "cell_type": "code",
   "execution_count": null,
   "metadata": {},
   "outputs": [],
   "source": []
  }
 ],
 "metadata": {
  "kernelspec": {
   "display_name": "pyglotaran310",
   "language": "python",
   "name": "python3"
  },
  "language_info": {
   "codemirror_mode": {
    "name": "ipython",
    "version": 3
   },
   "file_extension": ".py",
   "mimetype": "text/x-python",
   "name": "python",
   "nbconvert_exporter": "python",
   "pygments_lexer": "ipython3",
   "version": "3.12.5"
  }
 },
 "nbformat": 4,
 "nbformat_minor": 2
}
