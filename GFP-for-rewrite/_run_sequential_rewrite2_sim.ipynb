{
 "cells": [
  {
   "cell_type": "markdown",
   "metadata": {},
   "source": [
    "## Imports"
   ]
  },
  {
   "cell_type": "code",
   "execution_count": 12,
   "metadata": {},
   "outputs": [],
   "source": [
    "from glotaran.io import load_scheme\n",
    "# from glotaran.project.scheme import Scheme\n",
    "from glotaran.io import load_parameters\n",
    "from glotaran.io import load_dataset\n"
   ]
  },
  {
   "cell_type": "code",
   "execution_count": 13,
   "metadata": {},
   "outputs": [],
   "source": [
    "from pyglotaran_extras import plot_data_overview\n",
    "from pyglotaran_extras import plot_overview\n",
    "from pyglotaran_extras.compat import convert\n"
   ]
  },
  {
   "cell_type": "markdown",
   "metadata": {},
   "source": [
    "## Load data files"
   ]
  },
  {
   "cell_type": "code",
   "execution_count": null,
   "metadata": {},
   "outputs": [],
   "source": [
    "experiment_data = {\n",
    "    \"GFPppH2O\": \"data/simgfph2oa.ascii\",\n",
    "}\n",
    "\n",
    "plot_data_overview(experiment_data[\"GFPppH2O\"], linlog=True, linthresh=1,cmap=\"seismic\");\n"
   ]
  },
  {
   "cell_type": "code",
   "execution_count": null,
   "metadata": {},
   "outputs": [],
   "source": [
    "parameters = load_parameters(\"models/parameters_sequential2.yml\", format_name=\"yml\")\n",
    "parameters\n"
   ]
  },
  {
   "cell_type": "code",
   "execution_count": 16,
   "metadata": {},
   "outputs": [],
   "source": [
    "scheme = load_scheme(\"models/model_sequential_rewrite2.yml\", format_name=\"yml\")\n"
   ]
  },
  {
   "cell_type": "code",
   "execution_count": 17,
   "metadata": {},
   "outputs": [],
   "source": [
    "# augment data to scheme\n",
    "scheme.load_data({\"GFPppH2O\": load_dataset(\"data/simgfph2oa.ascii\"),\"GFPpdpH2O\": load_dataset(\"data/simgfph2ob.ascii\")})\n"
   ]
  },
  {
   "cell_type": "markdown",
   "metadata": {},
   "source": [
    "## Optimization"
   ]
  },
  {
   "cell_type": "code",
   "execution_count": null,
   "metadata": {},
   "outputs": [],
   "source": [
    "result = scheme.optimize(parameters,  maximum_number_function_evaluations=11)\n"
   ]
  },
  {
   "cell_type": "code",
   "execution_count": null,
   "metadata": {},
   "outputs": [],
   "source": [
    "result.parameters_optimized\n"
   ]
  },
  {
   "cell_type": "code",
   "execution_count": 20,
   "metadata": {},
   "outputs": [],
   "source": [
    "# result.data[\"GFPppH2O\"].lifetime_decay\n",
    "# AttributeError: 'Dataset' object has no attribute 'lifetime_decay'\n"
   ]
  },
  {
   "cell_type": "markdown",
   "metadata": {},
   "source": [
    "## Plotting\n",
    "\n",
    "### Plot concentrations and spectra"
   ]
  },
  {
   "cell_type": "code",
   "execution_count": 21,
   "metadata": {},
   "outputs": [],
   "source": [
    "from pyglotaran_extras.plotting.plot_concentrations import plot_concentrations\n",
    "from pyglotaran_extras.plotting.plot_spectra import plot_sas, plot_norm_sas\n",
    "import matplotlib.pyplot as plt\n",
    "\n",
    "\n",
    "def plot_concentration_and_spectra(result_dataset):\n",
    "    # fig, axes = plt.subplots(1, 2, figsize=(18, 7))\n",
    "    fig, axes = plt.subplots(1, 3, figsize=(15, 4))\n",
    "    plot_concentrations(result_dataset,axes[0], center_λ=0, linlog=True)\n",
    "    plot_sas(result_dataset,axes[1])\n",
    "    plot_norm_sas(result_dataset,axes[2])\n",
    "    return fig, axes\n"
   ]
  },
  {
   "cell_type": "code",
   "execution_count": null,
   "metadata": {},
   "outputs": [],
   "source": [
    "fig, axes = plot_concentration_and_spectra(convert(result.data[\"GFPppH2O\"]))\n",
    "axes[0].set_xlabel(\"Time (ps)\")\n",
    "axes[0].set_ylabel(\"\")\n",
    "axes[0].axhline(0, color=\"k\", linewidth=1)\n",
    "axes[0].annotate(\"PP\", xy=(-0.1, 1), xycoords=\"axes fraction\",fontsize=16)\n",
    "axes[1].set_xlabel(\"Wavelength (nm)\")\n",
    "axes[1].set_ylabel(\"SADS (mOD)\")\n",
    "axes[1].set_title(\"SADS\")\n",
    "axes[1].axhline(0, color=\"k\", linewidth=1)\n",
    "axes[1].annotate(\"B\", xy=(-0.1, 1), xycoords=\"axes fraction\",fontsize=16)\n",
    "\n",
    "fig, axes = plot_concentration_and_spectra(convert(result.data[\"GFPpdpH2O\"]))\n",
    "axes[0].set_xlabel(\"Time (ps)\")\n",
    "axes[0].set_ylabel(\"\")\n",
    "axes[0].axhline(0, color=\"k\", linewidth=1)\n",
    "axes[0].annotate(\"PDP\", xy=(-0.1, 1), xycoords=\"axes fraction\",fontsize=16)\n",
    "axes[1].set_xlabel(\"Wavelength (nm)\")\n",
    "axes[1].set_ylabel(\"SADS (mOD)\")\n",
    "axes[1].set_title(\"SADS\")\n",
    "axes[1].axhline(0, color=\"k\", linewidth=1)\n"
   ]
  },
  {
   "cell_type": "markdown",
   "metadata": {},
   "source": [
    "#### Analyze coherent_artifact spectra"
   ]
  },
  {
   "cell_type": "code",
   "execution_count": null,
   "metadata": {},
   "outputs": [],
   "source": [
    "result.data[\"GFPpdpH2O\"].dims\n",
    "# join and print as string\n",
    "print(f\"Dimensions: {\", \".join(result.data[\"GFPpdpH2O\"].dims)}\")"
   ]
  },
  {
   "cell_type": "code",
   "execution_count": null,
   "metadata": {},
   "outputs": [],
   "source": [
    "result"
   ]
  },
  {
   "cell_type": "code",
   "execution_count": null,
   "metadata": {},
   "outputs": [],
   "source": [
    "result.data[\"GFPpdpH2O\"]"
   ]
  },
  {
   "cell_type": "code",
   "execution_count": null,
   "metadata": {},
   "outputs": [],
   "source": [
    "result.data[\"GFPpdpH2O\"].coherent_artifact_associated_amplitudes_artifact\n"
   ]
  },
  {
   "cell_type": "code",
   "execution_count": null,
   "metadata": {},
   "outputs": [],
   "source": [
    "data_array = result.data[\"GFPpdpH2O\"].coherent_artifact_associated_amplitudes_artifact\n",
    "\n",
    "import matplotlib.pyplot as plt\n",
    "\n",
    "# Assuming `data_array` is your DataArray\n",
    "plt.plot(data_array.coords['spectral'], data_array.values[0][0])\n",
    "plt.plot(data_array.coords['spectral'], data_array.values[0][1]) # is all nan\n",
    "plt.xlabel('Spectral')\n",
    "plt.ylabel('Value')\n",
    "plt.title('2D Line Plot')\n",
    "plt.show()\n",
    "\n",
    "data_array.values[0][1][0:10]\n",
    "\n",
    "f\" data.scale should not be '1.0', but estimated from the data. It's currently: {result.data['GFPpdpH2O'].scale}\"\n"
   ]
  },
  {
   "cell_type": "markdown",
   "metadata": {},
   "source": [
    "### Plot traces"
   ]
  },
  {
   "cell_type": "code",
   "execution_count": null,
   "metadata": {},
   "outputs": [],
   "source": [
    "from pyglotaran_extras.plotting.plot_traces import (\n",
    "    plot_fitted_traces,\n",
    "    select_plot_wavelengths,\n",
    ")\n",
    "from pyglotaran_extras.plotting.style import PlotStyle\n",
    "\n",
    "wavelengths = select_plot_wavelengths(\n",
    "    convert(result.data[\"GFPppH2O\"]), equidistant_wavelengths=False, axes_shape=(4, 3)\n",
    ")\n",
    "fig3tr, axes = plot_fitted_traces(\n",
    "    convert(result),\n",
    "    wavelengths,\n",
    "    axes_shape=(4, 3),\n",
    "    linlog=True,\n",
    "    linthresh=1,\n",
    "    cycler=PlotStyle().data_cycler_solid_dashed,\n",
    ")\n"
   ]
  },
  {
   "cell_type": "markdown",
   "metadata": {},
   "source": [
    "### Plot overview"
   ]
  },
  {
   "cell_type": "code",
   "execution_count": null,
   "metadata": {},
   "outputs": [],
   "source": [
    "fig, _ = plot_overview(convert(result.data[\"GFPppH2O\"]), linlog=True)\n"
   ]
  },
  {
   "cell_type": "code",
   "execution_count": null,
   "metadata": {},
   "outputs": [],
   "source": [
    "fig, _ = plot_overview(convert(result.data[\"GFPpdpH2O\"]), linlog=True)\n"
   ]
  }
 ],
 "metadata": {
  "kernelspec": {
   "display_name": ".venv",
   "language": "python",
   "name": "python3"
  },
  "language_info": {
   "codemirror_mode": {
    "name": "ipython",
    "version": 3
   },
   "file_extension": ".py",
   "mimetype": "text/x-python",
   "name": "python",
   "nbconvert_exporter": "python",
   "pygments_lexer": "ipython3",
   "version": "3.12.5"
  }
 },
 "nbformat": 4,
 "nbformat_minor": 2
}
