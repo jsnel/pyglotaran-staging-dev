{
 "cells": [
  {
   "cell_type": "code",
   "execution_count": null,
   "metadata": {},
   "outputs": [],
   "source": [
    "from pyglotaran_extras import plot_data_overview\n",
    "\n",
    "experiment_data = {\n",
    "    \"glucose\": \"data/glucose.ascii\",\n",
    "}\n",
    "\n",
    "plot_data_overview(experiment_data[\"glucose\"], linlog=False, linthresh=1);\n",
    "# plot_data_overview(experiment_data[\"glucose\"], linlog=True, linthresh=1,cmap=\"seismic\",datamin=-50,datamax=50);\n"
   ]
  },
  {
   "cell_type": "code",
   "execution_count": null,
   "metadata": {},
   "outputs": [],
   "source": [
    "from glotaran.io import load_scheme\n",
    "\n",
    "# from glotaran.project.scheme import Scheme\n",
    "from glotaran.io import load_parameters\n"
   ]
  },
  {
   "cell_type": "code",
   "execution_count": null,
   "metadata": {},
   "outputs": [],
   "source": [
    "parameters = load_parameters(\"models/parameters_sequential_glucose.yml\", format_name=\"yml\")\n"
   ]
  },
  {
   "cell_type": "code",
   "execution_count": null,
   "metadata": {},
   "outputs": [],
   "source": [
    "parameters\n"
   ]
  },
  {
   "cell_type": "code",
   "execution_count": null,
   "metadata": {},
   "outputs": [],
   "source": [
    "scheme = load_scheme(\"models/model_sequential_glucose.yml\", format_name=\"yml\")\n"
   ]
  },
  {
   "cell_type": "code",
   "execution_count": null,
   "metadata": {},
   "outputs": [],
   "source": [
    "from glotaran.io import load_dataset\n",
    "\n",
    "scheme.load_data({\"glucose\": load_dataset(\"data/glucose.ascii\")})\n"
   ]
  },
  {
   "cell_type": "code",
   "execution_count": null,
   "metadata": {},
   "outputs": [],
   "source": [
    "result = scheme.optimize(parameters, maximum_number_function_evaluations=21)\n"
   ]
  },
  {
   "cell_type": "code",
   "execution_count": null,
   "metadata": {},
   "outputs": [],
   "source": [
    "result.optimization_results[\"glucose\"].elements[\"sequential\"]"
   ]
  },
  {
   "cell_type": "code",
   "execution_count": null,
   "metadata": {},
   "outputs": [],
   "source": [
    "result.optimization_results[\"glucose\"].elements[\"sequential\"].concentrations.plot(x=\"time\", size=2)\n"
   ]
  },
  {
   "cell_type": "code",
   "execution_count": null,
   "metadata": {},
   "outputs": [],
   "source": [
    "from pyglotaran_extras.plotting.plot_concentrations import plot_concentrations\n",
    "from pyglotaran_extras.plotting.plot_spectra import plot_sas, plot_norm_sas\n",
    "import matplotlib.pyplot as plt\n",
    "\n",
    "\n",
    "def plot_concentration_and_spectra(result_dataset):\n",
    "    # fig, axes = plt.subplots(1, 2, figsize=(18, 7))\n",
    "    fig, axes = plt.subplots(1, 3, figsize=(15, 4))\n",
    "    plot_concentrations(result_dataset, axes[0], center_λ=0, linlog=True, linthresh=25)\n",
    "    plot_sas(result_dataset, axes[1])\n",
    "    plot_norm_sas(result_dataset, axes[2])\n",
    "    return fig, axes\n"
   ]
  },
  {
   "cell_type": "code",
   "execution_count": null,
   "metadata": {},
   "outputs": [],
   "source": [
    "fig, axes = plot_concentration_and_spectra(\n",
    "    result.optimization_results[\"glucose\"].elements[\"sequential\"]\n",
    ")\n",
    "axes[0].set_xlabel(\"Time (ps)\")\n",
    "axes[0].set_ylabel(\"\")\n",
    "axes[0].axhline(0, color=\"k\", linewidth=1)\n",
    "axes[0].annotate(\"A\", xy=(-0.1, 1), xycoords=\"axes fraction\", fontsize=16)\n",
    "axes[1].set_xlabel(\"Wavelength (nm)\")\n",
    "axes[1].set_ylabel(\"SADS (mOD)\")\n",
    "axes[1].set_title(\"SADS\")\n",
    "axes[1].axhline(0, color=\"k\", linewidth=1)\n",
    "axes[1].annotate(\"B\", xy=(-0.1, 1), xycoords=\"axes fraction\", fontsize=16)"
   ]
  },
  {
   "cell_type": "code",
   "execution_count": null,
   "metadata": {},
   "outputs": [],
   "source": [
    "from pyglotaran_extras.plotting.plot_traces import (\n",
    "    plot_fitted_traces,\n",
    "    select_plot_wavelengths,\n",
    ")\n",
    "from pyglotaran_extras.plotting.style import PlotStyle\n",
    "\n",
    "wavelengths = select_plot_wavelengths(\n",
    "    result.optimization_results[\"glucose\"].elements[\"sequential\"],\n",
    "    equidistant_wavelengths=False,\n",
    "    axes_shape=(4, 3),\n",
    ")\n",
    "fig3tr, axes = plot_fitted_traces(\n",
    "    result.optimization_results[\"glucose\"],\n",
    "    wavelengths,\n",
    "    axes_shape=(4, 3),\n",
    "    linlog=True,\n",
    "    linthresh=1,\n",
    "    cycler=PlotStyle().data_cycler_solid_dashed,\n",
    ")\n"
   ]
  }
 ],
 "metadata": {
  "kernelspec": {
   "display_name": ".venv",
   "language": "python",
   "name": "python3"
  },
  "language_info": {
   "codemirror_mode": {
    "name": "ipython",
    "version": 3
   },
   "file_extension": ".py",
   "mimetype": "text/x-python",
   "name": "python",
   "nbconvert_exporter": "python",
   "pygments_lexer": "ipython3",
   "version": "3.12.7"
  }
 },
 "nbformat": 4,
 "nbformat_minor": 2
}
